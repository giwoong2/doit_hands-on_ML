{
 "cells": [
  {
   "cell_type": "markdown",
   "metadata": {},
   "source": [
    "### 5.2.3 릿지 회귀 모델 구현하기"
   ]
  },
  {
   "cell_type": "code",
   "execution_count": 1,
   "metadata": {},
   "outputs": [],
   "source": [
    "import numpy as np\n",
    "from sklearn.datasets import load_diabetes\n",
    "from sklearn.model_selection import train_test_split\n",
    "\n",
    "X, y = load_diabetes(return_X_y=True, as_frame=False)\n",
    "X_train, X_test, y_train, y_test = train_test_split(X, \n",
    "                                                    y, \n",
    "                                                    test_size=0.33, \n",
    "                                                    random_state=1234)\n",
    "y_train = y_train.reshape(-1, 1)\n",
    "y_test = y_test.reshape(-1, 1)\n",
    "\n",
    "n_train, n_test = X_train.shape[0], X_test.shape[0]\n",
    "\n",
    "X_train = np.append(np.ones((n_train, 1)), X_train, axis=1)\n",
    "X_test = np.append(np.ones((n_test, 1)), X_test, axis=1)"
   ]
  },
  {
   "cell_type": "code",
   "execution_count": 2,
   "metadata": {},
   "outputs": [
    {
     "name": "stdout",
     "output_type": "stream",
     "text": [
      "alpha 값이 0일 때:\n",
      "학습 데이터셋 MAE: 43.549\n",
      "테스트 데이터셋 MAE: 42.618\n",
      "\n",
      "alpha 값이 0.1일 때:\n",
      "학습 데이터셋 MAE: 43.924\n",
      "테스트 데이터셋 MAE: 43.368\n",
      "\n",
      "alpha 값이 1일 때:\n",
      "학습 데이터셋 MAE: 48.909\n",
      "테스트 데이터셋 MAE: 49.590\n",
      "\n"
     ]
    }
   ],
   "source": [
    "alphas = [0, 0.1, 1]\n",
    "\n",
    "for alpha in alphas:\n",
    "    w = np.linalg.inv(X_train.T @ X_train + alpha *\n",
    "                      np.identity(X_train.shape[1])) @ X_train.T @ y_train\n",
    "\n",
    "    y_pred_train = X_train @ w\n",
    "    print(f'alpha 값이 {alpha}일 때:')\n",
    "    print(f'학습 데이터셋 MAE:{np.abs(y_pred_train - y_train).mean(): .3f}')\n",
    "    y_pred = X_test @ w\n",
    "    print(f'테스트 데이터셋 MAE:{np.abs(y_pred - y_test).mean(): .3f}\\n')"
   ]
  },
  {
   "cell_type": "markdown",
   "metadata": {},
   "source": [
    "### [예제 5.1] Ridge 클래스 사용하기"
   ]
  },
  {
   "cell_type": "code",
   "execution_count": 3,
   "metadata": {},
   "outputs": [],
   "source": [
    "from sklearn.linear_model import Ridge\n",
    "from sklearn.datasets import load_diabetes\n",
    "from sklearn.model_selection import train_test_split\n",
    "import numpy as np\n",
    "\n",
    "X, y = load_diabetes(return_X_y=True, as_frame=True)\n",
    "X_train, X_test, y_train, y_test = train_test_split(X,\n",
    "                                                    y,\n",
    "                                                    test_size=0.33,\n",
    "                                                    random_state=1234)"
   ]
  },
  {
   "cell_type": "code",
   "execution_count": 4,
   "metadata": {},
   "outputs": [
    {
     "name": "stdout",
     "output_type": "stream",
     "text": [
      "alpha 값이 0일 경우:\n",
      "학습 데이터셋 MAE: 43.549\n",
      "테스트 데이터셋 MAE: 42.618\n",
      "\n",
      "alpha 값이 0.1일 경우:\n",
      "학습 데이터셋 MAE: 43.928\n",
      "테스트 데이터셋 MAE: 43.366\n",
      "\n",
      "alpha 값이 1일 경우:\n",
      "학습 데이터셋 MAE: 48.966\n",
      "테스트 데이터셋 MAE: 49.582\n",
      "\n"
     ]
    }
   ],
   "source": [
    "alphas = [0, 0.1, 1]\n",
    "\n",
    "for alpha in alphas:\n",
    "    reg = Ridge(alpha=alpha)\n",
    "    reg = reg.fit(X_train, y_train)\n",
    "\n",
    "    y_pred_train = reg.predict(X_train)\n",
    "    print(f'alpha 값이 {alpha}일 경우:')\n",
    "    print(f'학습 데이터셋 MAE:{np.abs(y_pred_train - y_train).mean(): .3f}')\n",
    "    y_pred = reg.predict(X_test)\n",
    "    print(f'테스트 데이터셋 MAE:{np.abs(y_pred - y_test).mean(): .3f}\\n')"
   ]
  },
  {
   "cell_type": "markdown",
   "metadata": {},
   "source": [
    "### [예제 5.2] OLS와 릿지 회귀의 변동성"
   ]
  },
  {
   "cell_type": "code",
   "execution_count": 5,
   "metadata": {},
   "outputs": [],
   "source": [
    "# Code source: Gaël Varoquaux\n",
    "# Modified for documentation by Jaques Grobler\n",
    "# License: BSD 3 clause\n",
    "\n",
    "import numpy as np\n",
    "from sklearn.linear_model import LinearRegression, Ridge\n",
    "import matplotlib.pyplot as plt\n",
    "%matplotlib inline\n",
    "\n",
    "X_train = np.array([[0.5], [1]])\n",
    "y_train = np.array([0.5, 1])\n",
    "X_test = np.array([[0], [2]])"
   ]
  },
  {
   "cell_type": "code",
   "execution_count": 6,
   "metadata": {},
   "outputs": [
    {
     "data": {
      "text/plain": [
       "Text(0, 0.5, 'y')"
      ]
     },
     "execution_count": 6,
     "metadata": {},
     "output_type": "execute_result"
    },
    {
     "data": {
      "image/png": "[encoded data removed]",
      "text/plain": [
       "<Figure size 288x216 with 1 Axes>"
      ]
     },
     "metadata": {
      "needs_background": "light"
     },
     "output_type": "display_data"
    }
   ],
   "source": [
    "np.random.seed(1234)\n",
    "\n",
    "fig, ax = plt.subplots(figsize=(4, 3))\n",
    "\n",
    "clf = LinearRegression().fit(X_train, y_train)\n",
    "ax.plot(X_test, clf.predict(X_test), linewidth=2, color=\"blue\")\n",
    "ax.scatter(X_train, y_train, s=30, c=\"red\", marker=\"+\", zorder=10)\n",
    "\n",
    "for _ in range(6):\n",
    "    this_X = 0.1 * np.random.normal(size=(2, 1)) + X_train\n",
    "    clf = LinearRegression().fit(this_X, y_train)\n",
    "    ax.plot(X_test, clf.predict(X_test), color=\"gray\")\n",
    "    ax.scatter(this_X, y_train, s=3, c=\"gray\", marker=\"o\", zorder=10)\n",
    "\n",
    "ax.set_title('ols')\n",
    "ax.set_xlim(0, 2)\n",
    "ax.set_ylim((0, 1.6))\n",
    "ax.set_xlabel(\"X\")\n",
    "ax.set_ylabel(\"y\")"
   ]
  },
  {
   "cell_type": "code",
   "execution_count": 7,
   "metadata": {},
   "outputs": [
    {
     "data": {
      "text/plain": [
       "Text(0, 0.5, 'y')"
      ]
     },
     "execution_count": 7,
     "metadata": {},
     "output_type": "execute_result"
    },
    {
     "data": {
      "image/png": "[encoded data removed]",
      "text/plain": [
       "<Figure size 288x216 with 1 Axes>"
      ]
     },
     "metadata": {
      "needs_background": "light"
     },
     "output_type": "display_data"
    }
   ],
   "source": [
    "np.random.seed(1234)\n",
    "\n",
    "fig, ax = plt.subplots(figsize=(4, 3))\n",
    "\n",
    "clf = Ridge(alpha=0.1).fit(X_train, y_train)\n",
    "ax.plot(X_test, clf.predict(X_test), linewidth=2, color=\"blue\")\n",
    "ax.scatter(X_train, y_train, s=30, c=\"red\", marker=\"+\", zorder=10)\n",
    "\n",
    "for _ in range(6):\n",
    "    this_X = 0.1 * np.random.normal(size=(2, 1)) + X_train\n",
    "    clf = Ridge(alpha=0.1).fit(this_X, y_train)\n",
    "    ax.plot(X_test, clf.predict(X_test), color=\"gray\")\n",
    "    ax.scatter(this_X, y_train, s=3, c=\"gray\", marker=\"o\", zorder=10)\n",
    "\n",
    "ax.set_title('ridge')\n",
    "ax.set_xlim(0, 2)\n",
    "ax.set_ylim((0, 1.6))\n",
    "ax.set_xlabel(\"X\")\n",
    "ax.set_ylabel(\"y\")"
   ]
  },
  {
   "cell_type": "markdown",
   "metadata": {},
   "source": [
    "### [예제 5.3] 거의 완벽한 선형 데이터에서의 OLS 모델과 릿지 회귀 모델"
   ]
  },
  {
   "cell_type": "code",
   "execution_count": 8,
   "metadata": {},
   "outputs": [],
   "source": [
    "import numpy as np\n",
    "import pandas as pd\n",
    "\n",
    "n, n_train = 1000, 700\n",
    "m, v = 1, 0.01\n",
    "\n",
    "np.random.seed(1234)\n",
    "X1 = np.random.normal(m, v, size=n)\n",
    "X2 = np.random.normal(m, v, size=n)\n",
    "X3 = np.random.normal(m, v, size=n)\n",
    "X4 = np.random.normal(m, v, size=n)\n",
    "y = X1*100 + X2*20 + X3*30 + X4*50 + np.random.normal(m, v, size=n)\n",
    "df = pd.DataFrame({'y': y, 'X1': X1, 'X2': X2, 'X3': X3, 'X4': X4})\n",
    "\n",
    "train, test = df.iloc[:n_train, :], df.iloc[n_train:, :]\n",
    "\n",
    "X_train, y_train = train.iloc[:, 1:], train.iloc[:, 0]\n",
    "X_test, y_test = test.iloc[:, 1:], test.iloc[:, 0]"
   ]
  },
  {
   "cell_type": "code",
   "execution_count": 9,
   "metadata": {},
   "outputs": [
    {
     "name": "stdout",
     "output_type": "stream",
     "text": [
      "OLS 모델의 MAE: 0.00011\n"
     ]
    }
   ],
   "source": [
    "from sklearn.linear_model import LinearRegression, Ridge\n",
    "\n",
    "reg1 = LinearRegression()\n",
    "y_pred = reg1.fit(X_train, y_train).predict(X_test)\n",
    "print(f'OLS 모델의 MAE:{((y_pred - y_test)**2).mean(): .5f}')"
   ]
  },
  {
   "cell_type": "code",
   "execution_count": 10,
   "metadata": {},
   "outputs": [
    {
     "name": "stdout",
     "output_type": "stream",
     "text": [
      "alpha 값이 1000일 때 릿지 회귀 모델의 MAE: 1.44251\n",
      "alpha 값이 100일 때 릿지 회귀 모델의 MAE: 1.44082\n",
      "alpha 값이 10일 때 릿지 회귀 모델의 MAE: 1.42405\n",
      "alpha 값이 1일 때 릿지 회귀 모델의 MAE: 1.27140\n",
      "alpha 값이 0.1일 때 릿지 회귀 모델의 MAE: 0.52970\n",
      "alpha 값이 0.01일 때 릿지 회귀 모델의 MAE: 0.02572\n",
      "alpha 값이 0.001일 때 릿지 회귀 모델의 MAE: 0.00041\n"
     ]
    }
   ],
   "source": [
    "for alpha in [1000, 100, 10, 1, 0.1, 0.01, 0.001]:\n",
    "    reg2 = Ridge(alpha=alpha)\n",
    "    y_pred = reg2.fit(X_train, y_train).predict(X_test)\n",
    "    ((y_pred - y_test)**2).mean()\n",
    "    print(f'alpha 값이 {alpha}일 때 릿지 회귀 모델의 MAE:{((y_pred - y_test)**2).mean(): .5f}')"
   ]
  },
  {
   "cell_type": "markdown",
   "metadata": {},
   "source": [
    "## 05 되새김 문제"
   ]
  },
  {
   "cell_type": "markdown",
   "metadata": {},
   "source": [
    "### [되새김 문제 5.1] Ridge 클래스 적용하기"
   ]
  },
  {
   "cell_type": "markdown",
   "metadata": {},
   "source": [
    "#### 문제"
   ]
  },
  {
   "cell_type": "code",
   "execution_count": 11,
   "metadata": {},
   "outputs": [],
   "source": [
    "from sklearn.linear_model import Ridge\n",
    "from sklearn.datasets import load_diabetes\n",
    "from sklearn.model_selection import train_test_split\n",
    "from sklearn.preprocessing import MinMaxScaler\n",
    "import numpy as np\n",
    "\n",
    "X, y = load_diabetes(return_X_y=True, as_frame=True)\n",
    "X_train, X_test, y_train, y_test = train_test_split(X,\n",
    "                                                    y,\n",
    "                                                    test_size=0.33,\n",
    "                                                    random_state=2345)"
   ]
  },
  {
   "cell_type": "markdown",
   "metadata": {},
   "source": [
    "#### 풀이"
   ]
  },
  {
   "cell_type": "code",
   "execution_count": 12,
   "metadata": {},
   "outputs": [
    {
     "name": "stdout",
     "output_type": "stream",
     "text": [
      "RMSE: 56.379\n"
     ]
    }
   ],
   "source": [
    "scaler = MinMaxScaler().fit(X_train)\n",
    "\n",
    "X_train_scaled = scaler.transform(X_train)\n",
    "X_test_scaled = scaler.transform(X_test)\n",
    "\n",
    "reg = Ridge(alpha=10, solver='sag', random_state=1234)\n",
    "y_pred = reg.fit(X_train_scaled, y_train).predict(X_test_scaled)\n",
    "\n",
    "print(f'RMSE:{np.sqrt(((y_pred - y_test)**2).mean()): .3f}')"
   ]
  },
  {
   "cell_type": "markdown",
   "metadata": {},
   "source": [
    "### [되새김 문제 5.2] 비선형 회귀 문제에서의 선형 규제 모델"
   ]
  },
  {
   "cell_type": "markdown",
   "metadata": {},
   "source": [
    "#### 문제"
   ]
  },
  {
   "cell_type": "code",
   "execution_count": 1,
   "metadata": {},
   "outputs": [
    {
     "data": {
      "text/html": [
       "<div>\n",
       "<style scoped>\n",
       "    .dataframe tbody tr th:only-of-type {\n",
       "        vertical-align: middle;\n",
       "    }\n",
       "\n",
       "    .dataframe tbody tr th {\n",
       "        vertical-align: top;\n",
       "    }\n",
       "\n",
       "    .dataframe thead th {\n",
       "        text-align: right;\n",
       "    }\n",
       "</style>\n",
       "<table border=\"1\" class=\"dataframe\">\n",
       "  <thead>\n",
       "    <tr style=\"text-align: right;\">\n",
       "      <th></th>\n",
       "      <th>y</th>\n",
       "      <th>X1</th>\n",
       "      <th>X2</th>\n",
       "      <th>X3</th>\n",
       "      <th>X4</th>\n",
       "      <th>X5</th>\n",
       "    </tr>\n",
       "  </thead>\n",
       "  <tbody>\n",
       "    <tr>\n",
       "      <th>206</th>\n",
       "      <td>-1043.525008</td>\n",
       "      <td>0.854545</td>\n",
       "      <td>0.980386</td>\n",
       "      <td>1.084388</td>\n",
       "      <td>1.052588</td>\n",
       "      <td>1</td>\n",
       "    </tr>\n",
       "    <tr>\n",
       "      <th>2436</th>\n",
       "      <td>783.900028</td>\n",
       "      <td>0.742729</td>\n",
       "      <td>1.102032</td>\n",
       "      <td>0.776963</td>\n",
       "      <td>1.049194</td>\n",
       "      <td>0</td>\n",
       "    </tr>\n",
       "    <tr>\n",
       "      <th>1201</th>\n",
       "      <td>909.283251</td>\n",
       "      <td>0.958107</td>\n",
       "      <td>1.159922</td>\n",
       "      <td>1.071176</td>\n",
       "      <td>1.151493</td>\n",
       "      <td>0</td>\n",
       "    </tr>\n",
       "    <tr>\n",
       "      <th>1486</th>\n",
       "      <td>832.806098</td>\n",
       "      <td>1.066110</td>\n",
       "      <td>0.975990</td>\n",
       "      <td>0.939312</td>\n",
       "      <td>0.992746</td>\n",
       "      <td>0</td>\n",
       "    </tr>\n",
       "    <tr>\n",
       "      <th>1786</th>\n",
       "      <td>-1101.601106</td>\n",
       "      <td>0.940846</td>\n",
       "      <td>1.111162</td>\n",
       "      <td>0.959809</td>\n",
       "      <td>1.058676</td>\n",
       "      <td>1</td>\n",
       "    </tr>\n",
       "    <tr>\n",
       "      <th>...</th>\n",
       "      <td>...</td>\n",
       "      <td>...</td>\n",
       "      <td>...</td>\n",
       "      <td>...</td>\n",
       "      <td>...</td>\n",
       "      <td>...</td>\n",
       "    </tr>\n",
       "    <tr>\n",
       "      <th>664</th>\n",
       "      <td>842.658338</td>\n",
       "      <td>1.176910</td>\n",
       "      <td>1.054615</td>\n",
       "      <td>1.047532</td>\n",
       "      <td>0.941769</td>\n",
       "      <td>0</td>\n",
       "    </tr>\n",
       "    <tr>\n",
       "      <th>776</th>\n",
       "      <td>-1209.189849</td>\n",
       "      <td>1.125480</td>\n",
       "      <td>1.030696</td>\n",
       "      <td>1.174190</td>\n",
       "      <td>1.024031</td>\n",
       "      <td>1</td>\n",
       "    </tr>\n",
       "    <tr>\n",
       "      <th>1318</th>\n",
       "      <td>878.704510</td>\n",
       "      <td>1.140897</td>\n",
       "      <td>1.047285</td>\n",
       "      <td>0.954595</td>\n",
       "      <td>1.047294</td>\n",
       "      <td>0</td>\n",
       "    </tr>\n",
       "    <tr>\n",
       "      <th>723</th>\n",
       "      <td>877.670564</td>\n",
       "      <td>0.948883</td>\n",
       "      <td>1.220475</td>\n",
       "      <td>1.123088</td>\n",
       "      <td>1.077942</td>\n",
       "      <td>0</td>\n",
       "    </tr>\n",
       "    <tr>\n",
       "      <th>363</th>\n",
       "      <td>-1135.383281</td>\n",
       "      <td>1.050324</td>\n",
       "      <td>1.203564</td>\n",
       "      <td>0.798109</td>\n",
       "      <td>0.895300</td>\n",
       "      <td>1</td>\n",
       "    </tr>\n",
       "  </tbody>\n",
       "</table>\n",
       "<p>5000 rows × 6 columns</p>\n",
       "</div>"
      ],
      "text/plain": [
       "                y        X1        X2        X3        X4  X5\n",
       "206  -1043.525008  0.854545  0.980386  1.084388  1.052588   1\n",
       "2436   783.900028  0.742729  1.102032  0.776963  1.049194   0\n",
       "1201   909.283251  0.958107  1.159922  1.071176  1.151493   0\n",
       "1486   832.806098  1.066110  0.975990  0.939312  0.992746   0\n",
       "1786 -1101.601106  0.940846  1.111162  0.959809  1.058676   1\n",
       "...           ...       ...       ...       ...       ...  ..\n",
       "664    842.658338  1.176910  1.054615  1.047532  0.941769   0\n",
       "776  -1209.189849  1.125480  1.030696  1.174190  1.024031   1\n",
       "1318   878.704510  1.140897  1.047285  0.954595  1.047294   0\n",
       "723    877.670564  0.948883  1.220475  1.123088  1.077942   0\n",
       "363  -1135.383281  1.050324  1.203564  0.798109  0.895300   1\n",
       "\n",
       "[5000 rows x 6 columns]"
      ]
     },
     "execution_count": 1,
     "metadata": {},
     "output_type": "execute_result"
    }
   ],
   "source": [
    "import numpy as np\n",
    "import pandas as pd\n",
    "\n",
    "n1, n2, n_train = 2500, 2500, 4000\n",
    "m, v = 1, 0.1\n",
    "\n",
    "np.random.seed(1234)\n",
    "X1 = np.random.normal(m, v, size=n1)\n",
    "X2 = np.random.normal(m, v, size=n1)\n",
    "X3 = np.random.normal(m, v, size=n1)\n",
    "X4 = np.random.normal(m, v, size=n1)\n",
    "y = X1*200 + X2*30 + X3*100 + X4*500\n",
    "df1 = pd.DataFrame({'y': y, 'X1': X1, 'X2': X2, 'X3': X3, 'X4': X4})\n",
    "df1['X5'] = 0\n",
    "\n",
    "X1 = np.random.normal(m, v, size=n2)\n",
    "X2 = np.random.normal(m, v, size=n2)\n",
    "X3 = np.random.normal(m, v, size=n2)\n",
    "X4 = np.random.normal(m, v, size=n2)\n",
    "y = -X1*500 - X2*300 - X3*200 - X4*100\n",
    "df2 = pd.DataFrame({'y': y, 'X1': X1, 'X2': X2, 'X3': X3, 'X4': X4})\n",
    "df2['X5'] = 1\n",
    "\n",
    "df = pd.concat([df1, df2])\n",
    "df = df.sample(frac=1, random_state=1234)\n",
    "df"
   ]
  },
  {
   "cell_type": "code",
   "execution_count": 2,
   "metadata": {},
   "outputs": [],
   "source": [
    "train, test = df.iloc[:n_train, :], df.iloc[n_train:, :]\n",
    "\n",
    "X_train, y_train = train.iloc[:, 1:], train.iloc[:, 0]\n",
    "X_test, y_test = test.iloc[:, 1:], test.iloc[:, 0]"
   ]
  },
  {
   "cell_type": "markdown",
   "metadata": {},
   "source": [
    "#### 풀이"
   ]
  },
  {
   "cell_type": "code",
   "execution_count": 5,
   "metadata": {},
   "outputs": [
    {
     "name": "stdout",
     "output_type": "stream",
     "text": [
      "OLS 모델의 MAE: 39.50\n",
      "LASSO 모델의 MAE: 41.62\n",
      "릿지 회귀 모델의 MAE: 39.52\n"
     ]
    }
   ],
   "source": [
    "from sklearn.linear_model import LinearRegression, Lasso, Ridge\n",
    "\n",
    "reg1 = LinearRegression()\n",
    "y_pred = reg1.fit(X_train, y_train).predict(X_test)\n",
    "print(f'OLS 모델의 MAE:{(np.abs(y_pred - y_test)).mean(): .2f}')\n",
    "\n",
    "reg2 = Lasso()\n",
    "y_pred = reg2.fit(X_train, y_train).predict(X_test)\n",
    "((y_pred - y_test)**2).mean()\n",
    "print(f'LASSO 모델의 MAE:{(np.abs(y_pred - y_test)).mean(): .2f}')\n",
    "\n",
    "reg3 = Ridge()\n",
    "y_pred = reg3.fit(X_train, y_train).predict(X_test)\n",
    "((y_pred - y_test)**2).mean()\n",
    "print(f'릿지 회귀 모델의 MAE:{(np.abs(y_pred - y_test)).mean(): .2f}')"
   ]
  },
  {
   "cell_type": "code",
   "execution_count": 6,
   "metadata": {},
   "outputs": [
    {
     "name": "stdout",
     "output_type": "stream",
     "text": [
      "랜덤 포레스트 회귀 모델의 MAE: 5.40\n"
     ]
    }
   ],
   "source": [
    "from sklearn.ensemble import RandomForestRegressor\n",
    "\n",
    "reg4 = RandomForestRegressor(random_state=1234)\n",
    "y_pred = reg4.fit(X_train, y_train).predict(X_test)\n",
    "print(f'랜덤 포레스트 회귀 모델의 MAE:{(np.abs(y_pred - y_test)).mean(): .2f}')"
   ]
  },
  {
   "cell_type": "code",
   "execution_count": null,
   "metadata": {},
   "outputs": [],
   "source": []
  }
 ],
 "metadata": {
  "kernelspec": {
   "display_name": "Python 3",
   "language": "python",
   "name": "python3"
  },
  "language_info": {
   "codemirror_mode": {
    "name": "ipython",
    "version": 3
   },
   "file_extension": ".py",
   "mimetype": "text/x-python",
   "name": "python",
   "nbconvert_exporter": "python",
   "pygments_lexer": "ipython3",
   "version": "3.7.3"
  }
 },
 "nbformat": 4,
 "nbformat_minor": 2
}
