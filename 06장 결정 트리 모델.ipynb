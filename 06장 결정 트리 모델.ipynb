{
 "cells": [
  {
   "cell_type": "markdown",
   "metadata": {},
   "source": [
    "### 6.2.2 결정 트리 분류 모델 구현하기"
   ]
  },
  {
   "cell_type": "code",
   "execution_count": 1,
   "metadata": {},
   "outputs": [],
   "source": [
    "import pandas as pd\n",
    "import numpy as np\n",
    "from sklearn.datasets import load_iris\n",
    "\n",
    "df = load_iris(as_frame=True)['frame']\n",
    "df = df[df['target'] <= 1]\n",
    "df = df.sample(frac=1, random_state=1234)\n",
    "\n",
    "train, test = df.iloc[:75, :], df.iloc[75:, :]\n",
    "X_train, y_train = train.iloc[:, :-1], train.iloc[:, -1]\n",
    "X_test, y_test = test.iloc[:, :-1], test.iloc[:, -1]\n",
    "X_cols, y_col = train.columns.tolist()[:-1], train.columns.tolist()[-1]"
   ]
  },
  {
   "cell_type": "code",
   "execution_count": 2,
   "metadata": {},
   "outputs": [],
   "source": [
    "max_depth = 4\n",
    "min_samples_split = 4"
   ]
  },
  {
   "cell_type": "code",
   "execution_count": 3,
   "metadata": {},
   "outputs": [],
   "source": [
    "def eval_gini(left, right, y_col):\n",
    "    gini, n1, n2 = 0, len(left), len(right)\n",
    "    \n",
    "    score = 1 - ((left[y_col].value_counts())**2).sum() / (n1**2)\n",
    "    gini += score * n1 / (n1 + n2)\n",
    "\n",
    "    score = 1 - ((right[y_col].value_counts())**2).sum() / (n2**2)\n",
    "    gini += score * n2 / (n1 + n2)\n",
    "\n",
    "    return gini"
   ]
  },
  {
   "cell_type": "code",
   "execution_count": 4,
   "metadata": {},
   "outputs": [],
   "source": [
    "def eval_class(df, y_col):\n",
    "    return df[y_col].value_counts().sort_values(ascending=False).index[0]"
   ]
  },
  {
   "cell_type": "code",
   "execution_count": 5,
   "metadata": {},
   "outputs": [],
   "source": [
    "tree = []\n",
    "for i in range(0, 2**(max_depth + 1)):\n",
    "    tree.append(dict({'struct': None}))\n",
    "\n",
    "tree[1]['struct'] = train"
   ]
  },
  {
   "cell_type": "code",
   "execution_count": 6,
   "metadata": {},
   "outputs": [],
   "source": [
    "for i in range(1, len(tree)):\n",
    "\n",
    "    # 트리가 끝난 부분은 통과\n",
    "    if not isinstance(tree[i]['struct'], pd.DataFrame): continue\n",
    "    \n",
    "    # 최대 깊이 도달하였으면 클래스를 출력\n",
    "    if i >= 2**max_depth:\n",
    "        tree[i]['struct'] = eval_class(tree[i]['struct'], y_col)\n",
    "        continue\n",
    "    \n",
    "    data = tree[i]['struct']\n",
    "    a, b, c, d, e = '', float('inf'), float('inf'), None, None\n",
    "    \n",
    "    # 최고의 피처와 임계값을 찾은 후 그 기준으로 분할\n",
    "    for X_col in X_cols: \n",
    "        vals = np.sort(data[X_col].unique())\n",
    "        for val in vals[1:]:\n",
    "            left, right = data[data[X_col] < val], data[data[X_col] >= val]\n",
    "\n",
    "            gini = eval_gini(left, right, y_col)\n",
    "\n",
    "            if gini < c:\n",
    "                a, b, c, d, e = X_col, val, gini, left, right\n",
    "    \n",
    "    tree[i]['col'] = a\n",
    "    tree[i]['val'] = b\n",
    "    if len(d) >= min_samples_split:\n",
    "        tree[i << 1]['struct'] = d\n",
    "    else:\n",
    "        tree[i << 1]['struct'] = eval_class(e, y_col)\n",
    "    if len(e) >= min_samples_split:\n",
    "        tree[(i << 1) + 1]['struct'] = e\n",
    "    else:\n",
    "        tree[(i << 1) + 1]['struct'] = eval_class(e, y_col)"
   ]
  },
  {
   "cell_type": "code",
   "execution_count": 7,
   "metadata": {},
   "outputs": [
    {
     "name": "stdout",
     "output_type": "stream",
     "text": [
      "학습 데이터셋 정확도: 100.00%\n"
     ]
    }
   ],
   "source": [
    "cnt = 0\n",
    "for i in range(len(X_train)):\n",
    "    row = X_train.iloc[i]\n",
    "    ind = 1\n",
    "    node = tree[ind]\n",
    "    while isinstance(node['struct'], pd.DataFrame):\n",
    "        if row[node['col']] < node['val']:\n",
    "            ind = ind << 1\n",
    "        else:\n",
    "            ind = (ind << 1) + 1\n",
    "        node = tree[ind]\n",
    "\n",
    "    y_pred = node['struct']\n",
    "    cnt += (y_pred == y_train.iloc[i]) * 1\n",
    "    \n",
    "print(f'학습 데이터셋 정확도:{cnt / len(y_train) * 100: .2f}%')"
   ]
  },
  {
   "cell_type": "code",
   "execution_count": 8,
   "metadata": {},
   "outputs": [
    {
     "name": "stdout",
     "output_type": "stream",
     "text": [
      "테스트 데이터셋 정확도: 100.00%\n"
     ]
    }
   ],
   "source": [
    "cnt = 0\n",
    "for i in range(len(X_test)):\n",
    "    row = X_test.iloc[i]\n",
    "    ind = 1\n",
    "    node = tree[ind]\n",
    "    while isinstance(node['struct'], pd.DataFrame):\n",
    "        if row[node['col']] < node['val']:\n",
    "            ind = ind << 1\n",
    "        else:\n",
    "            ind = (ind << 1) + 1\n",
    "        node = tree[ind]\n",
    "\n",
    "    y_pred = node['struct']\n",
    "    cnt += (y_pred == y_test.iloc[i]) * 1\n",
    "    \n",
    "print(f'테스트 데이터셋 정확도:{cnt / len(y_test) * 100: .2f}%')"
   ]
  },
  {
   "cell_type": "markdown",
   "metadata": {},
   "source": [
    "### [예제 6.1] DecisionTreeClassifier 클래스 사용하기"
   ]
  },
  {
   "cell_type": "code",
   "execution_count": 9,
   "metadata": {},
   "outputs": [],
   "source": [
    "import pandas as pd\n",
    "import numpy as np\n",
    "from sklearn.datasets import load_iris\n",
    "from sklearn.model_selection import train_test_split\n",
    "from sklearn.tree import DecisionTreeClassifier\n",
    "\n",
    "X, y = load_iris(return_X_y=True, as_frame=False)\n",
    "X_train, X_test, y_train, y_test = train_test_split(X,\n",
    "                                                    y,\n",
    "                                                    test_size=0.33,\n",
    "                                                    random_state=1234)"
   ]
  },
  {
   "cell_type": "code",
   "execution_count": 10,
   "metadata": {},
   "outputs": [],
   "source": [
    "clf = DecisionTreeClassifier(criterion='entropy',\n",
    "                             max_depth=3,\n",
    "                             min_samples_split=3,\n",
    "                             random_state=1234)\n",
    "clf = clf.fit(X_train, y_train)"
   ]
  },
  {
   "cell_type": "code",
   "execution_count": 11,
   "metadata": {},
   "outputs": [
    {
     "name": "stdout",
     "output_type": "stream",
     "text": [
      "정확도: 98.00%\n"
     ]
    }
   ],
   "source": [
    "y_pred = clf.predict(X_test)\n",
    "acc = (y_pred == y_test).sum() / len(y_test)\n",
    "print(f'정확도:{acc * 100: .2f}%')"
   ]
  },
  {
   "cell_type": "markdown",
   "metadata": {},
   "source": [
    "### [예제 6.2] 트리 구조의 이해"
   ]
  },
  {
   "cell_type": "code",
   "execution_count": 12,
   "metadata": {},
   "outputs": [],
   "source": [
    "import numpy as np\n",
    "from matplotlib import pyplot as plt\n",
    "from sklearn.model_selection import train_test_split\n",
    "from sklearn.datasets import load_iris\n",
    "from sklearn.tree import DecisionTreeClassifier\n",
    "from sklearn import tree\n",
    "%matplotlib inline\n",
    "\n",
    "X, y = load_iris(return_X_y=True, as_frame=False)\n",
    "X_train, X_test, y_train, y_test = train_test_split(X,\n",
    "                                                    y,\n",
    "                                                    test_size=0.33,\n",
    "                                                    random_state=1234)"
   ]
  },
  {
   "cell_type": "code",
   "execution_count": 13,
   "metadata": {},
   "outputs": [
    {
     "data": {
      "text/plain": [
       "DecisionTreeClassifier(max_leaf_nodes=3, random_state=1234)"
      ]
     },
     "execution_count": 13,
     "metadata": {},
     "output_type": "execute_result"
    }
   ],
   "source": [
    "clf = DecisionTreeClassifier(max_leaf_nodes=3, random_state=1234)\n",
    "clf.fit(X_train, y_train)"
   ]
  },
  {
   "cell_type": "code",
   "execution_count": 14,
   "metadata": {},
   "outputs": [
    {
     "data": {
      "text/plain": [
       "[Text(0.4, 0.8333333333333334, 'X[2] <= 2.6\\ngini = 0.667\\nsamples = 100\\nvalue = [33, 33, 34]'),\n",
       " Text(0.2, 0.5, 'gini = 0.0\\nsamples = 33\\nvalue = [33, 0, 0]'),\n",
       " Text(0.6, 0.5, 'X[3] <= 1.65\\ngini = 0.5\\nsamples = 67\\nvalue = [0, 33, 34]'),\n",
       " Text(0.4, 0.16666666666666666, 'gini = 0.157\\nsamples = 35\\nvalue = [0, 32, 3]'),\n",
       " Text(0.8, 0.16666666666666666, 'gini = 0.061\\nsamples = 32\\nvalue = [0, 1, 31]')]"
      ]
     },
     "execution_count": 14,
     "metadata": {},
     "output_type": "execute_result"
    },
    {
     "data": {
      "image/png": "[encoded data removed]",
      "text/plain": [
       "<Figure size 432x288 with 1 Axes>"
      ]
     },
     "metadata": {
      "needs_background": "light"
     },
     "output_type": "display_data"
    }
   ],
   "source": [
    "tree.plot_tree(clf)"
   ]
  },
  {
   "cell_type": "code",
   "execution_count": 15,
   "metadata": {},
   "outputs": [
    {
     "name": "stdout",
     "output_type": "stream",
     "text": [
      "정확도: 96.00%\n"
     ]
    }
   ],
   "source": [
    "y_pred = clf.predict(X_test)\n",
    "acc = (y_test == y_pred).sum() / len(y_test)\n",
    "print(f'정확도:{acc*100: .2f}%')"
   ]
  },
  {
   "cell_type": "markdown",
   "metadata": {},
   "source": [
    "### [예제 6.3] 그리드 서치로 결정 트리의 하이퍼파라미터 튜닝하기"
   ]
  },
  {
   "cell_type": "code",
   "execution_count": 16,
   "metadata": {},
   "outputs": [],
   "source": [
    "import numpy as np\n",
    "from sklearn.datasets import load_breast_cancer\n",
    "from sklearn.model_selection import train_test_split\n",
    "from sklearn.tree import DecisionTreeClassifier\n",
    "\n",
    "X, y = load_breast_cancer(return_X_y=True, as_frame=False)\n",
    "\n",
    "X_train, X_test, y_train, y_test = train_test_split(X,\n",
    "                                                    y,\n",
    "                                                    test_size=0.33,\n",
    "                                                    random_state=1234)\n",
    "X_train, X_val, y_train, y_val = train_test_split(X_train,\n",
    "                                                  y_train,\n",
    "                                                  test_size=0.33,\n",
    "                                                  random_state=1234)"
   ]
  },
  {
   "cell_type": "code",
   "execution_count": 17,
   "metadata": {},
   "outputs": [],
   "source": [
    "max_depths = [None, 3, 6]\n",
    "min_samples_splits = [2, 3, 4]\n",
    "max_featuress = ['sqrt', 'log2', None]"
   ]
  },
  {
   "cell_type": "code",
   "execution_count": 18,
   "metadata": {},
   "outputs": [
    {
     "name": "stdout",
     "output_type": "stream",
     "text": [
      "max_depth: None \n",
      "min_samples_split: 2 \n",
      "max_features: log2\n"
     ]
    }
   ],
   "source": [
    "from itertools import product\n",
    "\n",
    "best_max_depth = None\n",
    "best_min_samples_split = None\n",
    "best_max_features = None\n",
    "\n",
    "best_acc = 0\n",
    "\n",
    "for max_depth, min_samples_split, max_features in product(max_depths, min_samples_splits, max_featuress):\n",
    "    clf = DecisionTreeClassifier(random_state=1234,\n",
    "                                 max_depth=max_depth,\n",
    "                                 min_samples_split=min_samples_split,\n",
    "                                 max_features=max_features)\n",
    "    y_pred = clf.fit(X_train, y_train).predict(X_val)\n",
    "    \n",
    "    acc = (y_pred == y_val).mean()\n",
    "    if acc > best_acc:\n",
    "        best_acc = acc\n",
    "        best_max_depth = max_depth\n",
    "        best_min_samples_split = min_samples_split\n",
    "        best_max_features = max_features\n",
    "\n",
    "print('max_depth:', best_max_depth, '\\nmin_samples_split:', \n",
    "      best_min_samples_split, '\\nmax_features:', best_max_features)"
   ]
  },
  {
   "cell_type": "code",
   "execution_count": 19,
   "metadata": {},
   "outputs": [
    {
     "name": "stdout",
     "output_type": "stream",
     "text": [
      "정확도: 87.77%\n"
     ]
    }
   ],
   "source": [
    "clf = DecisionTreeClassifier(random_state=1234,\n",
    "                             max_depth=best_max_depth,\n",
    "                             min_samples_split=best_min_samples_split,\n",
    "                             max_features=best_max_features)\n",
    "\n",
    "y_pred = clf.fit(X_train,y_train).predict(X_test)\n",
    "print(f'정확도:{(y_pred == y_test).mean() * 100: .2f}%')"
   ]
  },
  {
   "cell_type": "markdown",
   "metadata": {},
   "source": [
    "## 06 되새김 문제"
   ]
  },
  {
   "cell_type": "markdown",
   "metadata": {},
   "source": [
    "### [되새김 문제 6.1] 결정 트리의 과적합"
   ]
  },
  {
   "cell_type": "markdown",
   "metadata": {},
   "source": [
    "#### 문제"
   ]
  },
  {
   "cell_type": "code",
   "execution_count": 20,
   "metadata": {},
   "outputs": [],
   "source": [
    "import pandas as pd\n",
    "from sklearn.datasets import make_classification\n",
    "from sklearn.tree import DecisionTreeClassifier\n",
    "import matplotlib.pyplot as plt\n",
    "%matplotlib inline\n",
    "\n",
    "X, y = make_classification(n_samples=2000,\n",
    "                           n_features=20,\n",
    "                           n_informative=15,\n",
    "                           flip_y=0.2,\n",
    "                           random_state=1234)\n",
    "df = pd.DataFrame(X, columns=['Feature' + str(x) for x in range(1, 21)])\n",
    "df['y'] = y\n",
    "train, test = df.iloc[:1500, :], df.iloc[1500:, :]\n",
    "X_train, y_train = train.iloc[:, :-1], train.iloc[:, -1]\n",
    "X_test, y_test = test.iloc[:, :-1], test.iloc[:, -1]"
   ]
  },
  {
   "cell_type": "code",
   "execution_count": 21,
   "metadata": {},
   "outputs": [],
   "source": [
    "X2, y2 = make_classification(n_samples=2000,\n",
    "                             n_features=20,\n",
    "                             n_informative=3,\n",
    "                             flip_y=0.99,\n",
    "                             random_state=1234)\n",
    "df2 = pd.DataFrame(X2, columns = ['Feature' + str(x) for x in range(1, 21)])\n",
    "df2['y'] = y2\n",
    "train2, test2 = df2.iloc[:1500, :], df2.iloc[1500:, :]\n",
    "X_train2, y_train2 = train2.iloc[:, :-1], train2.iloc[:, -1]\n",
    "X_test2, y_test2 = test2.iloc[:, :-1], test2.iloc[:, -1]"
   ]
  },
  {
   "cell_type": "markdown",
   "metadata": {},
   "source": [
    "#### 풀이"
   ]
  },
  {
   "cell_type": "code",
   "execution_count": 22,
   "metadata": {},
   "outputs": [
    {
     "data": {
      "text/plain": [
       "<matplotlib.legend.Legend at 0x288dd5ea358>"
      ]
     },
     "execution_count": 22,
     "metadata": {},
     "output_type": "execute_result"
    },
    {
     "data": {
      "image/png": "[encoded data removed]",
      "text/plain": [
       "<Figure size 432x288 with 1 Axes>"
      ]
     },
     "metadata": {
      "needs_background": "light"
     },
     "output_type": "display_data"
    }
   ],
   "source": [
    "train_acc = []\n",
    "test_acc = []\n",
    "max_depths = range(1, 31)\n",
    "for max_depth in max_depths:\n",
    "    clf = DecisionTreeClassifier(max_depth=max_depth, random_state=1234)\n",
    "    clf = clf.fit(X_train, y_train)\n",
    "    y_train_pred = clf.predict(X_train)\n",
    "    y_pred = clf.predict(X_test)\n",
    "    \n",
    "    train_acc.append((y_train == y_train_pred).mean() * 100)\n",
    "    test_acc.append((y_test == y_pred).mean() * 100)\n",
    "    \n",
    "plt.plot(max_depths, train_acc, label='Train set')\n",
    "plt.plot(max_depths, test_acc, label='Test set')\n",
    "plt.legend()"
   ]
  },
  {
   "cell_type": "code",
   "execution_count": 23,
   "metadata": {},
   "outputs": [
    {
     "data": {
      "text/plain": [
       "<matplotlib.legend.Legend at 0x288dd62c7b8>"
      ]
     },
     "execution_count": 23,
     "metadata": {},
     "output_type": "execute_result"
    },
    {
     "data": {
      "image/png": "[encoded data removed]",
      "text/plain": [
       "<Figure size 432x288 with 1 Axes>"
      ]
     },
     "metadata": {
      "needs_background": "light"
     },
     "output_type": "display_data"
    }
   ],
   "source": [
    "train_acc2 = []\n",
    "test_acc2 = []\n",
    "max_depths = range(1, 31)\n",
    "for max_depth in max_depths:\n",
    "    clf2 = DecisionTreeClassifier(max_depth=max_depth, random_state=1234)\n",
    "    clf2 = clf2.fit(X_train2, y_train2)\n",
    "    y_train_pred2 = clf2.predict(X_train2)\n",
    "    y_pred2 = clf2.predict(X_test2)\n",
    "    \n",
    "    train_acc2.append((y_train2 == y_train_pred2).mean() * 100)\n",
    "    test_acc2.append((y_test2 == y_pred2).mean() * 100)\n",
    "    \n",
    "plt.plot(max_depths, train_acc2, label='Train set')\n",
    "plt.plot(max_depths, test_acc2, label='Test set')\n",
    "plt.legend()"
   ]
  },
  {
   "cell_type": "markdown",
   "metadata": {},
   "source": [
    "### [되새김 문제 6.2] 회귀 트리 구현하기"
   ]
  },
  {
   "cell_type": "markdown",
   "metadata": {},
   "source": [
    "#### 문제"
   ]
  },
  {
   "cell_type": "code",
   "execution_count": 24,
   "metadata": {},
   "outputs": [],
   "source": [
    "from sklearn.datasets import load_diabetes\n",
    "from sklearn.model_selection import train_test_split\n",
    "import numpy as np\n",
    "import pandas as pd\n",
    "\n",
    "X, y = load_diabetes(return_X_y=True, as_frame=True)\n",
    "X_train, X_test, y_train, y_test = train_test_split(X,\n",
    "                                                    y,\n",
    "                                                    test_size=0.33,\n",
    "                                                    random_state=1234)\n",
    "train = pd.concat([X_train, y_train], axis = 1)\n",
    "X_cols, y_col = X.columns.tolist(), y.name"
   ]
  },
  {
   "cell_type": "markdown",
   "metadata": {},
   "source": [
    "#### 풀이"
   ]
  },
  {
   "cell_type": "code",
   "execution_count": 25,
   "metadata": {},
   "outputs": [],
   "source": [
    "max_depth = 4\n",
    "min_samples_split = 4"
   ]
  },
  {
   "cell_type": "code",
   "execution_count": 26,
   "metadata": {},
   "outputs": [],
   "source": [
    "def eval_mse(left, right, y_col):\n",
    "    mse, n1, n2 = 0, len(left), len(right)\n",
    "    score = ((left[y_col] - left[y_col].mean())**2).mean()\n",
    "    mse += score * n1 / (n1 + n2)\n",
    "    score = ((right[y_col] - right[y_col].mean())**2).mean()\n",
    "    mse += score * n2 / (n1 + n2)    \n",
    "    return mse\n",
    "\n",
    "def eval_y(df, y_col): \n",
    "    return df[y_col].mean()"
   ]
  },
  {
   "cell_type": "code",
   "execution_count": 27,
   "metadata": {},
   "outputs": [],
   "source": [
    "tree = []\n",
    "for i in range(0, 2**(max_depth + 1)):\n",
    "    tree.append(dict({'struct': None}))\n",
    "\n",
    "tree[1]['struct'] = train\n",
    "\n",
    "for i in range(1, len(tree)):\n",
    "    if not isinstance(tree[i]['struct'], pd.DataFrame): continue\n",
    "    if i >= 2**max_depth:\n",
    "        tree[i]['struct'] = eval_y(tree[i]['struct'], y_col)\n",
    "        continue\n",
    "    \n",
    "    data = tree[i]['struct']\n",
    "    a, b, c, d, e = '', float('inf'), float('inf'), None, None\n",
    "    \n",
    "    for X_col in X_cols: \n",
    "        vals = np.sort(data[X_col].unique())\n",
    "        for val in vals[1:]:\n",
    "            left, right = data[data[X_col] < val], data[data[X_col] >= val]\n",
    "            mse = eval_mse(left, right, y_col)\n",
    "            if mse < c: a, b, c, d, e = X_col, val, mse, left, right\n",
    "    \n",
    "    tree[i]['col'] = a\n",
    "    tree[i]['val'] = b\n",
    "\n",
    "    if len(d) >= min_samples_split: tree[i << 1]['struct'] = d\n",
    "    else: tree[i << 1]['struct'] = eval_y(e, y_col)\n",
    "\n",
    "    if len(e) >= min_samples_split: tree[(i << 1) + 1]['struct'] = e\n",
    "    else: tree[(i << 1) + 1]['struct'] = eval_y(e, y_col)"
   ]
  },
  {
   "cell_type": "code",
   "execution_count": 28,
   "metadata": {},
   "outputs": [
    {
     "name": "stdout",
     "output_type": "stream",
     "text": [
      "학습 데이터셋 MAE: 40.32\n",
      "테스트 데이터셋 MAE: 45.49\n"
     ]
    }
   ],
   "source": [
    "error = 0\n",
    "for i in range(len(X_train)):\n",
    "    row = X_train.iloc[i]\n",
    "    ind = 1\n",
    "    node = tree[ind]\n",
    "    while isinstance(node['struct'], pd.DataFrame):\n",
    "        if row[node['col']] < node['val']: ind = ind << 1\n",
    "        else: ind = (ind << 1) + 1\n",
    "        node = tree[ind]\n",
    "\n",
    "    y_pred = node['struct']\n",
    "    error += np.abs(y_pred - y_train.iloc[i])\n",
    "print(f'학습 데이터셋 MAE:{error / len(y_train): .2f}')\n",
    "\n",
    "error = 0\n",
    "for i in range(len(X_test)):\n",
    "    row = X_test.iloc[i]\n",
    "    ind = 1\n",
    "    node = tree[ind]\n",
    "    while isinstance(node['struct'], pd.DataFrame):\n",
    "        if row[node['col']] < node['val']: ind = ind << 1\n",
    "        else: ind = (ind << 1) + 1\n",
    "        node = tree[ind]\n",
    "\n",
    "    y_pred = node['struct']\n",
    "    error += np.abs(y_pred - y_test.iloc[i])\n",
    "print(f'테스트 데이터셋 MAE:{error / len(y_test): .2f}')"
   ]
  },
  {
   "cell_type": "code",
   "execution_count": 29,
   "metadata": {},
   "outputs": [
    {
     "name": "stdout",
     "output_type": "stream",
     "text": [
      "학습 데이터셋 MAE: 39.30\n",
      "테스트 데이터셋 MAE: 45.67\n"
     ]
    }
   ],
   "source": [
    "from sklearn.tree import DecisionTreeRegressor\n",
    "\n",
    "reg = DecisionTreeRegressor(random_state=1234,\n",
    "                            max_depth=4,\n",
    "                            min_samples_split=4).fit(X_train, y_train)\n",
    "\n",
    "y_pred_train = reg.predict(X_train)\n",
    "print(f'학습 데이터셋 MAE:{(np.abs(y_pred_train - y_train)).mean(): .2f}')\n",
    "\n",
    "y_pred = reg.predict(X_test)\n",
    "print(f'테스트 데이터셋 MAE:{(np.abs(y_pred - y_test)).mean(): .2f}')"
   ]
  },
  {
   "cell_type": "markdown",
   "metadata": {},
   "source": [
    "### [되새김 문제 6.3] 그리드 서치로 분류 트리의 하이퍼파라미터 튜닝하기"
   ]
  },
  {
   "cell_type": "markdown",
   "metadata": {},
   "source": [
    "#### 문제"
   ]
  },
  {
   "cell_type": "code",
   "execution_count": 30,
   "metadata": {},
   "outputs": [],
   "source": [
    "from sklearn.datasets import load_wine\n",
    "import numpy as np\n",
    "from sklearn.model_selection import train_test_split\n",
    "from sklearn.tree import DecisionTreeClassifier\n",
    "\n",
    "X, y = load_wine(return_X_y=True, as_frame=True)\n",
    "\n",
    "X_train, X_test, y_train, y_test = train_test_split(X,\n",
    "                                                    y,\n",
    "                                                    test_size=0.33,\n",
    "                                                    random_state=1234)\n",
    "X_train, X_val, y_train, y_val = train_test_split(X_train,\n",
    "                                                  y_train,\n",
    "                                                  test_size=0.33,\n",
    "                                                  random_state=1234)"
   ]
  },
  {
   "cell_type": "markdown",
   "metadata": {},
   "source": [
    "#### 풀이"
   ]
  },
  {
   "cell_type": "code",
   "execution_count": 31,
   "metadata": {},
   "outputs": [],
   "source": [
    "max_depths = [3, 4, 5]\n",
    "class_weights = [None, 'balanced']"
   ]
  },
  {
   "cell_type": "code",
   "execution_count": 32,
   "metadata": {},
   "outputs": [
    {
     "name": "stdout",
     "output_type": "stream",
     "text": [
      "best acc: 0.95 \n",
      "max_depth: 3 \n",
      "class_weight: None\n"
     ]
    }
   ],
   "source": [
    "from itertools import product\n",
    "\n",
    "best_max_depth, best_class_weight, best_acc = None, None, 0\n",
    "\n",
    "for max_depth, class_weight in product(max_depths, class_weights):\n",
    "    clf = DecisionTreeClassifier(random_state=1234,\n",
    "                                 max_depth=max_depth,\n",
    "                                 class_weight=class_weight)\n",
    "    y_pred = clf.fit(X_train, y_train).predict(X_val)\n",
    "    \n",
    "    acc = (y_pred == y_val).mean()\n",
    "    if acc > best_acc:\n",
    "        best_acc = acc\n",
    "        best_max_depth = max_depth\n",
    "        best_class_weight = class_weight\n",
    "\n",
    "print('best acc:', best_acc, '\\nmax_depth:', best_max_depth, '\\nclass_weight:', \n",
    "      best_class_weight)"
   ]
  },
  {
   "cell_type": "code",
   "execution_count": 33,
   "metadata": {},
   "outputs": [
    {
     "name": "stdout",
     "output_type": "stream",
     "text": [
      "정확도: 84.75%\n"
     ]
    }
   ],
   "source": [
    "clf = DecisionTreeClassifier(random_state=1234,\n",
    "                             max_depth=best_max_depth,\n",
    "                             class_weight=best_class_weight)\n",
    "\n",
    "y_pred = clf.fit(X_train, y_train).predict(X_test)\n",
    "acc = np.abs(y_pred == y_test).mean()\n",
    "print(f'정확도:{acc * 100: .2f}%')"
   ]
  },
  {
   "cell_type": "markdown",
   "metadata": {},
   "source": [
    "### [되새김 문제 6.4] 제약 조건을 없애도 학습 데이터 정확도가 낮은 분류 트리"
   ]
  },
  {
   "cell_type": "markdown",
   "metadata": {},
   "source": [
    "#### 문제"
   ]
  },
  {
   "cell_type": "code",
   "execution_count": 34,
   "metadata": {},
   "outputs": [],
   "source": [
    "from sklearn.tree import DecisionTreeClassifier\n",
    "\n",
    "clf = DecisionTreeClassifier(random_state=1234)"
   ]
  },
  {
   "cell_type": "markdown",
   "metadata": {},
   "source": [
    "#### 풀이"
   ]
  },
  {
   "cell_type": "code",
   "execution_count": 35,
   "metadata": {},
   "outputs": [
    {
     "name": "stdout",
     "output_type": "stream",
     "text": [
      "정확도: 50.00%\n"
     ]
    }
   ],
   "source": [
    "import pandas as pd\n",
    "\n",
    "f1 = [1, 0] * 10\n",
    "f2 = [0, 1] * 10\n",
    "y = [0] * 10 + [1] * 10\n",
    "df = pd.DataFrame({'f1': f1, 'f2': f2, 'y': y})\n",
    "\n",
    "X = df[['f1', 'f2']]\n",
    "y = df['y']\n",
    "\n",
    "y_pred = clf.fit(X, y).predict(X)\n",
    "\n",
    "acc = (y_pred == y).mean()\n",
    "print(f'정확도: {acc*100:.2f}%')"
   ]
  },
  {
   "cell_type": "code",
   "execution_count": 36,
   "metadata": {},
   "outputs": [
    {
     "data": {
      "image/png": "[encoded data removed]",
      "text/plain": [
       "<Figure size 432x288 with 1 Axes>"
      ]
     },
     "metadata": {
      "needs_background": "light"
     },
     "output_type": "display_data"
    }
   ],
   "source": [
    "from sklearn import tree\n",
    "import matplotlib.pyplot as plt\n",
    "\n",
    "tree.plot_tree(clf)\n",
    "plt.show()"
   ]
  },
  {
   "cell_type": "code",
   "execution_count": null,
   "metadata": {},
   "outputs": [],
   "source": []
  }
 ],
 "metadata": {
  "kernelspec": {
   "display_name": "Python 3",
   "language": "python",
   "name": "python3"
  },
  "language_info": {
   "codemirror_mode": {
    "name": "ipython",
    "version": 3
   },
   "file_extension": ".py",
   "mimetype": "text/x-python",
   "name": "python",
   "nbconvert_exporter": "python",
   "pygments_lexer": "ipython3",
   "version": "3.7.3"
  }
 },
 "nbformat": 4,
 "nbformat_minor": 2
}
